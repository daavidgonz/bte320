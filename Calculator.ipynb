{
  "nbformat": 4,
  "nbformat_minor": 0,
  "metadata": {
    "colab": {
      "provenance": [],
      "authorship_tag": "ABX9TyNRsrBnyg3t/I+Tk3ch3ntH",
      "include_colab_link": true
    },
    "kernelspec": {
      "name": "python3",
      "display_name": "Python 3"
    },
    "language_info": {
      "name": "python"
    }
  },
  "cells": [
    {
      "cell_type": "markdown",
      "metadata": {
        "id": "view-in-github",
        "colab_type": "text"
      },
      "source": [
        "<a href=\"https://colab.research.google.com/github/daavidgonz/bte320/blob/main/Calculator.ipynb\" target=\"_parent\"><img src=\"https://colab.research.google.com/assets/colab-badge.svg\" alt=\"Open In Colab\"/></a>"
      ]
    },
    {
      "cell_type": "code",
      "execution_count": null,
      "metadata": {
        "id": "c-wQzr6sq8P-"
      },
      "outputs": [],
      "source": [
        "while True:\n",
        "  i = int(input('value '))\n",
        "  operation = input('operator ')\n",
        "  j = int(input('value '))\n",
        "\n",
        "  if operation == 'break':\n",
        "    break\n",
        "  elif operation == '+':\n",
        "    output = i+j\n",
        "  elif operation == '-':\n",
        "    output = i-j\n",
        "  elif operation == '//':\n",
        "    output = i//j\n",
        "  elif operation == '*':\n",
        "    output = i*j\n",
        "  elif operation == '/':\n",
        "    output = i/j\n",
        "  elif operation == '%':\n",
        "    output = i%j\n",
        "  elif operation == '**':\n",
        "    output = i**j\n",
        "  else:\n",
        "    continue\n",
        "\n",
        "  print(f'Answer: {output}')"
      ]
    }
  ]
}