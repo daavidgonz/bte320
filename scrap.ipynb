{
  "nbformat": 4,
  "nbformat_minor": 0,
  "metadata": {
    "colab": {
      "provenance": [],
      "authorship_tag": "ABX9TyPZjzqQt0WU6U/C9UBpde6c",
      "include_colab_link": true
    },
    "kernelspec": {
      "name": "python3",
      "display_name": "Python 3"
    },
    "language_info": {
      "name": "python"
    }
  },
  "cells": [
    {
      "cell_type": "markdown",
      "metadata": {
        "id": "view-in-github",
        "colab_type": "text"
      },
      "source": [
        "<a href=\"https://colab.research.google.com/github/daavidgonz/bte320/blob/main/scrap.ipynb\" target=\"_parent\"><img src=\"https://colab.research.google.com/assets/colab-badge.svg\" alt=\"Open In Colab\"/></a>"
      ]
    },
    {
      "cell_type": "markdown",
      "source": [
        "practicing conditional statements\n",
        "- u can use else or elif interchangeably, but else is cleaner and more simple."
      ],
      "metadata": {
        "id": "4ca1yoPNK0Fm"
      }
    },
    {
      "cell_type": "code",
      "source": [
        "userInput=float(input('enter a value:'))\n",
        "if userInput > 0 :\n",
        "  print(f'{userInput} is positive')\n",
        "elif userInput < 0:\n",
        "  print(f'{userInput} is negative')\n",
        "else:\n",
        "  print(f'{userInput} is zero')"
      ],
      "metadata": {
        "colab": {
          "base_uri": "https://localhost:8080/"
        },
        "id": "1Rg8MctzHoml",
        "outputId": "1b87acd3-b1cf-41a8-e55c-427d15240ea6"
      },
      "execution_count": null,
      "outputs": [
        {
          "output_type": "stream",
          "name": "stdout",
          "text": [
            "enter a value:0\n",
            "0.0 is zero\n"
          ]
        }
      ]
    },
    {
      "cell_type": "code",
      "source": [
        "import random\n",
        "\n",
        "user_choice = input(\"Enter your choice (rock, paper, or scissors): \")\n",
        "computer_choice = random.choice([\"rock\", \"paper\", \"scissors\"])\n",
        "\n",
        "print(f\"You chose: {user_choice}\")\n",
        "print(f\"Computer chose: {computer_choice}\")\n",
        "\n",
        "if user_choice == computer_choice:\n",
        "    print(\"It's a tie!\")\n",
        "elif (\n",
        "    (user_choice == \"rock\" and computer_choice == \"scissors\") or\n",
        "    (user_choice == \"paper\" and computer_choice == \"rock\") or\n",
        "    (user_choice == \"scissors\" and computer_choice == \"paper\")\n",
        "):\n",
        "    print(\"You win!\")\n",
        "else:\n",
        "    print(\"Computer wins!\")"
      ],
      "metadata": {
        "colab": {
          "base_uri": "https://localhost:8080/"
        },
        "id": "vMuXhf3yLf2w",
        "outputId": "2dbed9dd-6c24-420b-bde2-693290f60dce"
      },
      "execution_count": null,
      "outputs": [
        {
          "output_type": "stream",
          "name": "stdout",
          "text": [
            "Enter your choice (rock, paper, or scissors): rock\n",
            "You chose: rock\n",
            "Computer chose: rock\n",
            "It's a tie!\n"
          ]
        }
      ]
    },
    {
      "cell_type": "code",
      "source": [
        "import random\n",
        "\n",
        "play = input('Do you want to play? (y/n)')\n",
        "\n",
        "while play == 'y':\n",
        "  user_choice = input(\"Enter your choice (rock, paper, or scissors): \")\n",
        "  computer_choice = random.choice([\"rock\", \"paper\", \"scissors\"])\n",
        "  print(f\"You chose: {user_choice}\")\n",
        "  print(f\"Computer chose: {computer_choice}\")\n",
        "  play = input('Do you want to play? (y/n)')\n",
        "print(\"Game Over\")\n",
        "\n",
        "\n",
        "\n"
      ],
      "metadata": {
        "colab": {
          "base_uri": "https://localhost:8080/"
        },
        "id": "VfTTaCcWLlPg",
        "outputId": "46fd3256-9450-4860-d747-29c9adf1ed1f"
      },
      "execution_count": null,
      "outputs": [
        {
          "output_type": "stream",
          "name": "stdout",
          "text": [
            "Do you want to play? (y/n)y\n",
            "Enter your choice (rock, paper, or scissors): rock]\n",
            "You chose: rock]\n",
            "Computer chose: scissors\n",
            "Do you want to play? (y/n)n\n",
            "Game over\n"
          ]
        }
      ]
    },
    {
      "cell_type": "code",
      "source": [],
      "metadata": {
        "id": "d4LUEbAeL2-5"
      },
      "execution_count": null,
      "outputs": []
    },
    {
      "cell_type": "code",
      "source": [
        "check = input(\"Enter value for check (y/n): \")\n",
        "\n",
        "while check == 'y':\n",
        "  print(\"Hello!\")\n",
        "  check = input(\"Do you wish to continue? (y/n) \")\n",
        "print(\"Process finished\")"
      ],
      "metadata": {
        "id": "HDr9WelaiSOF",
        "colab": {
          "base_uri": "https://localhost:8080/"
        },
        "outputId": "99fb2027-da64-41c5-f996-562834541c1d"
      },
      "execution_count": null,
      "outputs": [
        {
          "output_type": "stream",
          "name": "stdout",
          "text": [
            "Enter value for check (y/n): y\n",
            "Hello!\n",
            "Do you wish to continue? (y/n) y\n",
            "Hello!\n",
            "Do you wish to continue? (y/n) n\n",
            "Process finished\n"
          ]
        }
      ]
    }
  ]
}