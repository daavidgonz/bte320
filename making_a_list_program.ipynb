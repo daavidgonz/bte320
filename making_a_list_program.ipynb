{
  "nbformat": 4,
  "nbformat_minor": 0,
  "metadata": {
    "colab": {
      "provenance": [],
      "authorship_tag": "ABX9TyN2QjhU+Bco+VbzXhXtD9t0",
      "include_colab_link": true
    },
    "kernelspec": {
      "name": "python3",
      "display_name": "Python 3"
    },
    "language_info": {
      "name": "python"
    }
  },
  "cells": [
    {
      "cell_type": "markdown",
      "metadata": {
        "id": "view-in-github",
        "colab_type": "text"
      },
      "source": [
        "<a href=\"https://colab.research.google.com/github/daavidgonz/bte320/blob/main/making_a_list_program.ipynb\" target=\"_parent\"><img src=\"https://colab.research.google.com/assets/colab-badge.svg\" alt=\"Open In Colab\"/></a>"
      ]
    },
    {
      "cell_type": "code",
      "execution_count": null,
      "metadata": {
        "id": "9OBJwYF2D_cc"
      },
      "outputs": [],
      "source": [
        "L = []\n",
        "number = int(input('enter a value:'))\n",
        "while number != 0:\n",
        "  L.append(number)\n",
        "  print(L)\n",
        "  number = int(input('enter a value:'))"
      ]
    }
  ]
}